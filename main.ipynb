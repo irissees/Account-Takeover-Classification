{
 "cells": [
  {
   "cell_type": "code",
   "execution_count": 1,
   "id": "9d884559-555b-45d3-acbf-81c9f9e2e8fa",
   "metadata": {},
   "outputs": [],
   "source": [
    "from sklearn.model_selection import train_test_split\n",
    "from sklearn.linear_model import LogisticRegression\n",
    "from sklearn.preprocessing import StandardScaler, OneHotEncoder\n",
    "from sklearn.compose import ColumnTransformer\n",
    "from sklearn.metrics import roc_auc_score, roc_curve, confusion_matrix\n",
    "from sklearn.pipeline import Pipeline\n",
    "from sklearn.ensemble import AdaBoostClassifier\n",
    "from xgboost import XGBClassifier\n",
    "from sklearn.ensemble import RandomForestClassifier\n",
    "import numpy as np\n",
    "import polars as pl\n",
    "import pandas as pd\n",
    "import gc\n",
    "pd.set_option('display.max_columns', None)\n",
    "pd.set_option('display.max_colwidth', None)"
   ]
  },
  {
   "cell_type": "code",
   "execution_count": 2,
   "id": "c9a71326-0109-4b66-934e-debd1ef75d48",
   "metadata": {},
   "outputs": [],
   "source": [
    "df = pl.scan_csv('rba-dataset.csv')"
   ]
  },
  {
   "cell_type": "code",
   "execution_count": 3,
   "id": "f07df40a-300e-4728-a6c0-1ec51bc9d4f0",
   "metadata": {},
   "outputs": [],
   "source": [
    "df = df.collect().to_pandas()"
   ]
  },
  {
   "cell_type": "code",
   "execution_count": 4,
   "id": "f6ef0251-22b2-4672-b862-261a4b63d40a",
   "metadata": {},
   "outputs": [],
   "source": [
    "df['Login Timestamp'] = pd.to_datetime(df['Login Timestamp'])\n",
    "df[['ip_part1', 'ip_part2', 'ip_part3', 'ip_part4']] = df['IP Address'].str.split('.', expand=True)\n",
    "\n",
    "df = df.astype({'ip_part1': 'int', 'ip_part2': 'int','ip_part3': 'int','ip_part4': 'int'})\n",
    "\n",
    "\n",
    "df = df.assign(\n",
    "    DoY=df['Login Timestamp'].dt.dayofyear,\n",
    "    hour=df['Login Timestamp'].dt.hour,\n",
    ").assign(\n",
    "    sin_time_id_day=lambda x: np.sin(2 * np.pi * x['DoY'] / 365),\n",
    "    cos_time_id_day=lambda x: np.cos(2 * np.pi * x['DoY'] / 365),\n",
    "    sin_hour=lambda x: np.sin(2 * np.pi * x['hour'] / 24),\n",
    "    cos_hour=lambda x: np.cos(2 * np.pi * x['hour'] / 24),\n",
    ")\n",
    "\n",
    "df = df.drop(columns=[\"Round-Trip Time [ms]\", 'Login Timestamp','IP Address','Region','City'])\n",
    "\n",
    "df['User Agent String'], _ = pd.factorize(df['User Agent String'])\n",
    "df['Browser Name and Version'], _ = pd.factorize(df['Browser Name and Version'])\n",
    "df['OS Name and Version'], _ = pd.factorize(df['OS Name and Version'])"
   ]
  },
  {
   "cell_type": "code",
   "execution_count": 5,
   "id": "9fbc039f-8cef-491e-9603-2b4c0da79c7b",
   "metadata": {},
   "outputs": [],
   "source": [
    "targets = ['Is Account Takeover']\n",
    "features = df.drop(targets, axis=1).columns\n",
    "\n",
    "X_train, X_test, y_train, y_test = train_test_split(df[features], df[targets], test_size=0.2, random_state=7,stratify=df[targets])"
   ]
  },
  {
   "cell_type": "code",
   "execution_count": 6,
   "id": "67543435-b53d-4de2-b96a-d7d6da7ef0b7",
   "metadata": {},
   "outputs": [],
   "source": [
    "numeric_cols = df.select_dtypes(include=['number']).columns.tolist()\n",
    "categorical_cols = ['Country','Device Type']\n",
    "preprocessor = ColumnTransformer(\n",
    "    transformers=[\n",
    "        ('num', StandardScaler(), numeric_cols),\n",
    "        ('cat', OneHotEncoder(handle_unknown='ignore'), categorical_cols)\n",
    "    ])\n",
    "\n",
    "\n",
    "classifiers = {\n",
    "    'logistic_regression': LogisticRegression(max_iter=1000),\n",
    "    'random_forest': RandomForestClassifier(),\n",
    "    'adb' : AdaBoostClassifier(),\n",
    "    'xgb': XGBClassifier()\n",
    "}\n",
    "\n",
    "def make_pipeline(classifier_key):\n",
    "    if classifier_key in classifiers:\n",
    "        clf = Pipeline(steps=[\n",
    "            ('preprocessor', preprocessor),\n",
    "            ('classifier', classifiers[classifier_key])\n",
    "        ])\n",
    "        return clf\n",
    "    else:\n",
    "        raise ValueError(f\"Classifier {classifier_key} is not defined\")"
   ]
  },
  {
   "cell_type": "code",
   "execution_count": 7,
   "id": "495bd51e-1e0b-4ade-857e-212a6c5b081b",
   "metadata": {
    "scrolled": true
   },
   "outputs": [
    {
     "name": "stderr",
     "output_type": "stream",
     "text": [
      "C:\\Users\\themu\\.conda\\envs\\fixed\\lib\\site-packages\\sklearn\\utils\\validation.py:1408: DataConversionWarning: A column-vector y was passed when a 1d array was expected. Please change the shape of y to (n_samples, ), for example using ravel().\n",
      "  y = column_or_1d(y, warn=True)\n"
     ]
    },
    {
     "name": "stdout",
     "output_type": "stream",
     "text": [
      "AUC Score: 0.8616147260733573\n"
     ]
    }
   ],
   "source": [
    "classifier_key = 'logistic_regression'\n",
    "pipeline = make_pipeline(classifier_key)\n",
    "pipeline.fit(X_train, y_train)\n",
    "\n",
    "# Evaluation\n",
    "lrpredictions = pipeline.predict(X_test)\n",
    "probs = pipeline.predict_proba(X_test)[:, 1]\n",
    "auc_score = roc_auc_score(y_test, probs)\n",
    "\n",
    "print(f\"AUC Score: {auc_score}\")"
   ]
  }
 ],
 "metadata": {
  "kernelspec": {
   "display_name": "Python 3 (ipykernel)",
   "language": "python",
   "name": "python3"
  },
  "language_info": {
   "codemirror_mode": {
    "name": "ipython",
    "version": 3
   },
   "file_extension": ".py",
   "mimetype": "text/x-python",
   "name": "python",
   "nbconvert_exporter": "python",
   "pygments_lexer": "ipython3",
   "version": "3.9.21"
  }
 },
 "nbformat": 4,
 "nbformat_minor": 5
}
